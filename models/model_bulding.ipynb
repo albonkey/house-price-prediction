{
 "cells": [
  {
   "cell_type": "code",
   "execution_count": 50,
   "metadata": {},
   "outputs": [],
   "source": [
    "from sklearn.ensemble import RandomForestRegressor\n",
    "from sklearn.linear_model import Ridge, Lasso\n",
    "import xgboost as xgb\n",
    "# from sklearn.model_selection import GridSearchCV\n",
    "import pandas as pd\n",
    "from sklearn.model_selection import train_test_split"
   ]
  },
  {
   "cell_type": "code",
   "execution_count": 51,
   "metadata": {},
   "outputs": [],
   "source": [
    "preprocessed_data = pd.read_csv('../data/processed_data/feature_engineered_data.csv')"
   ]
  },
  {
   "cell_type": "code",
   "execution_count": 52,
   "metadata": {},
   "outputs": [],
   "source": [
    "from sklearn.preprocessing import StandardScaler\n",
    "#Standerdize\n",
    "def scalar(X_train, X_test):\n",
    "    scaler = StandardScaler()\n",
    "    X_train = scaler.fit_transform(X_train)\n",
    "    X_test = scaler.transform(X_test)\n",
    "    return X_train, X_test"
   ]
  },
  {
   "cell_type": "code",
   "execution_count": 53,
   "metadata": {},
   "outputs": [],
   "source": [
    "from sklearn.decomposition import PCA\n",
    "# Perform PCA for dimensionality reduction\n",
    "def apply_pca(xt,n):\n",
    "    pca = PCA(n_components=n)\n",
    "    X_pca = pca.fit_transform(xt)\n",
    "    return X_pca"
   ]
  },
  {
   "cell_type": "code",
   "execution_count": 54,
   "metadata": {},
   "outputs": [],
   "source": [
    "from sklearn.ensemble import RandomForestRegressor\n",
    "from sklearn.linear_model import Ridge, Lasso\n",
    "from sklearn.tree import DecisionTreeRegressor\n",
    "from sklearn.linear_model import LinearRegression\n",
    "import xgboost as xgb\n",
    "from sklearn.metrics import mean_squared_error\n",
    "from math import sqrt\n",
    "# from sklearn.model_selection import GridSearchCV\n",
    "import pandas as pd\n",
    "from sklearn.metrics import mean_absolute_error, mean_absolute_percentage_error\n",
    "\n",
    "def model_training (X_train, X_test, y_train, y_test) :\n",
    "\n",
    "    model_list = ['Decision Tree']\n",
    "    #model_list = ['Decision Tree','Linear Regression','XgBoost', 'Random Forest', 'Ridge', 'Lasso' ]\n",
    "    results_df = pd.DataFrame()\n",
    "    for model in model_list:\n",
    "        #Model Training and parameter tuning using grid search\n",
    "        if model == \"XgBoost\":\n",
    "            model_name = xgb.XGBRegressor()\n",
    "            print (\"XgBoost Model Training...........\")\n",
    "            model_name.fit(X_train, y_train)\n",
    "\n",
    "        elif model == \"Random Forest\" :\n",
    "            model_name = RandomForestRegressor()\n",
    "            print (\"Random Forest Model Training...........\")\n",
    "            model_name.fit(X_train, y_train)\n",
    "\n",
    "        elif model == \"Ridge\" : \n",
    "            model_name = Ridge()\n",
    "            print (\"Ridge Training...........\")\n",
    "            model_name.fit(X_train, y_train)\n",
    "\n",
    "        elif model == \"Lasso\":    \n",
    "            model_name = Lasso()\n",
    "            print (\"Lasso Model Training...........\")\n",
    "            model_name.fit(X_train, y_train)\n",
    "\n",
    "        elif model == \"Decision Tree\":    \n",
    "            model_name = DecisionTreeRegressor(random_state=0)\n",
    "            print (\"Decision Tree Model Training...........\")\n",
    "            model_name.fit(X_train, y_train)\n",
    "\n",
    "        elif model == \"Linear Regression\":    \n",
    "            model_name = LinearRegression()\n",
    "            print (\"Linear Regression Model Training...........\")\n",
    "            model_name.fit(X_train, y_train)\n",
    "        \n",
    "        results_df = predictandaccuracyModel(X_test, y_test, results_df, model_name)\n",
    "\n",
    "    return (results_df)\n",
    "\n",
    "def predictandaccuracyModel(X_test, y_test, model, model_name):\n",
    "    predictions =  model_name.predict(X_test)\n",
    "    mse = mean_squared_error(y_test, predictions)\n",
    "    rmse = sqrt(mse)\n",
    "    results_df = pd.DataFrame()\n",
    "\n",
    "        #Normalized rmse\n",
    "    '''avg = y.max() - y.min()\n",
    "        rmseN = rmse/avg'''\n",
    "    \n",
    "    print(f'rmse {model_name} with PCA: {rmse}')\n",
    "        \n",
    "    mae = mean_absolute_error(y_test, predictions)\n",
    "    print(f'MAE {model_name} with PCA: {mae}')\n",
    "\n",
    "    mape = mean_absolute_percentage_error(y_test, predictions)\n",
    "    print(f'MAPE {model_name} with PCA: {mape}')\n",
    "\n",
    "        # print (predictions)\n",
    "    data = {'Actual': list(y_test), 'Predicted': predictions, 'Model': model_name} \n",
    "    model_pred = pd.DataFrame(data)\n",
    "\n",
    "        #results_df = results_df.append(model_pred, ignore_index = True)\n",
    "    results_df = pd.concat([model_pred,results_df])\n",
    "    return results_df\n",
    "  "
   ]
  },
  {
   "cell_type": "code",
   "execution_count": 55,
   "metadata": {},
   "outputs": [
    {
     "name": "stdout",
     "output_type": "stream",
     "text": [
      "Decision Tree Model Training...........\n",
      "rmse DecisionTreeRegressor(random_state=0) with PCA: 118789.06350195389\n",
      "MAE DecisionTreeRegressor(random_state=0) with PCA: 95782.18493150685\n",
      "MAPE DecisionTreeRegressor(random_state=0) with PCA: 0.6492746184676093\n",
      "       Actual  Predicted                                  Model\n",
      "0    155000.0   128000.0  DecisionTreeRegressor(random_state=0)\n",
      "1    260000.0   164000.0  DecisionTreeRegressor(random_state=0)\n",
      "2    120000.0   189000.0  DecisionTreeRegressor(random_state=0)\n",
      "3    168500.0   132250.0  DecisionTreeRegressor(random_state=0)\n",
      "4    126000.0   189000.0  DecisionTreeRegressor(random_state=0)\n",
      "..        ...        ...                                    ...\n",
      "287  130500.0   159000.0  DecisionTreeRegressor(random_state=0)\n",
      "288  133000.0   194500.0  DecisionTreeRegressor(random_state=0)\n",
      "289  184100.0   135750.0  DecisionTreeRegressor(random_state=0)\n",
      "290  135000.0   228000.0  DecisionTreeRegressor(random_state=0)\n",
      "291  156500.0   230000.0  DecisionTreeRegressor(random_state=0)\n",
      "\n",
      "[292 rows x 3 columns]\n"
     ]
    }
   ],
   "source": [
    "df = preprocessed_data\n",
    "\n",
    "drop_cols = ['SalePrice']\n",
    "traincols = df.columns\n",
    "feature_cols  = list(set(traincols)-set(drop_cols))\n",
    "label_col = 'SalePrice'\n",
    "\n",
    "\n",
    "X = df[df['type'] == 'train'][feature_cols]\n",
    "y = df[df['type'] == 'train'][label_col]\n",
    "X = X.drop(columns=['type'])\n",
    "\n",
    "X_train, X_test, y_train, y_test = train_test_split(X, y, test_size=0.2)\n",
    "X_train, X_test = scalar(X_train, X_test )\n",
    "X_train = apply_pca(X_train,10)\n",
    "X_test = apply_pca(X_test,10)\n",
    "predictions = model_training(X_train, X_test, y_train, y_test)\n",
    "print (predictions)"
   ]
  },
  {
   "cell_type": "code",
   "execution_count": 56,
   "metadata": {},
   "outputs": [],
   "source": [
    "predictions.to_csv(\"../data/predictions/model_predictions.csv\", index=False)"
   ]
  },
  {
   "cell_type": "code",
   "execution_count": 57,
   "metadata": {},
   "outputs": [
    {
     "data": {
      "text/plain": [
       "{'criterion': 'absolute_error',\n",
       " 'max_depth': 7,\n",
       " 'max_leaf_nodes': 25,\n",
       " 'min_samples_split': 10}"
      ]
     },
     "execution_count": 57,
     "metadata": {},
     "output_type": "execute_result"
    }
   ],
   "source": [
    "import numpy as np\n",
    "from sklearn.model_selection import GridSearchCV\n",
    "parameters = {'criterion':['squared_error','absolute_error'],\n",
    "              'max_depth':np.arange(1,21).tolist()[0::2],\n",
    "              'min_samples_split':np.arange(2,11).tolist()[0::2],\n",
    "              'max_leaf_nodes':np.arange(3,26).tolist()[0::2]}\n",
    "\n",
    "# create an instance of the grid search object\n",
    "g2 = GridSearchCV(DecisionTreeRegressor(), parameters, cv=5, n_jobs=-1)\n",
    "\n",
    "# conduct grid search over the parameter space\n",
    "g2.fit(X_train,y_train)\n",
    "\n",
    "# show best parameter configuration found for regressor\n",
    "rgr_params1 = g2.best_params_\n",
    "rgr_params1"
   ]
  },
  {
   "cell_type": "code",
   "execution_count": 58,
   "metadata": {},
   "outputs": [
    {
     "name": "stdout",
     "output_type": "stream",
     "text": [
      "rmse score: 131109.1996429388\n",
      "mae score: 100651.74\n",
      "MAPE: 0.7001565019843652\n"
     ]
    }
   ],
   "source": [
    "model = g2.best_estimator_\n",
    "y_pred = model.predict(X_test)\n",
    "print('rmse score:', sqrt(mean_squared_error(y_test,y_pred)))\n",
    "print('mae score: %.2f' % mean_absolute_error(y_test,y_pred))\n",
    "print('MAPE:', mean_absolute_percentage_error(y_test, y_pred))"
   ]
  }
 ],
 "metadata": {
  "kernelspec": {
   "display_name": "Python 3",
   "language": "python",
   "name": "python3"
  },
  "language_info": {
   "codemirror_mode": {
    "name": "ipython",
    "version": 3
   },
   "file_extension": ".py",
   "mimetype": "text/x-python",
   "name": "python",
   "nbconvert_exporter": "python",
   "pygments_lexer": "ipython3",
   "version": "3.11.4"
  }
 },
 "nbformat": 4,
 "nbformat_minor": 2
}
