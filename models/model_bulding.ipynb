{
 "cells": [
  {
   "cell_type": "code",
   "execution_count": 42,
   "metadata": {},
   "outputs": [],
   "source": [
    "from sklearn.ensemble import RandomForestRegressor\n",
    "from sklearn.linear_model import Ridge, Lasso\n",
    "import xgboost as xgb\n",
    "# from sklearn.model_selection import GridSearchCV\n",
    "import pandas as pd\n",
    "from sklearn.model_selection import train_test_split"
   ]
  },
  {
   "cell_type": "code",
   "execution_count": 43,
   "metadata": {},
   "outputs": [],
   "source": [
    "preprocessed_data = pd.read_csv('../data/processed_data/feature_engineered_data.csv')"
   ]
  },
  {
   "cell_type": "code",
   "execution_count": 44,
   "metadata": {},
   "outputs": [],
   "source": [
    "from sklearn.ensemble import RandomForestRegressor\n",
    "from sklearn.linear_model import Ridge, Lasso\n",
    "import xgboost as xgb\n",
    "# from sklearn.model_selection import GridSearchCV\n",
    "import pandas as pd\n",
    "\n",
    "\n",
    "def model_training (df) :\n",
    "\n",
    "\n",
    "    model_list = ['XgBoost', 'Random Forest', 'Ridge', 'Lasso']\n",
    "\n",
    "    results_df = pd.DataFrame()\n",
    "\n",
    "    for model in model_list:\n",
    "\n",
    "    # Assigning values to x and y\n",
    "\n",
    "        drop_cols = ['SalePrice']\n",
    "        traincols = df.columns\n",
    "        feature_cols  = list(set(traincols)-set(drop_cols))\n",
    "        label_col = 'SalePrice'\n",
    "\n",
    "        X = df[feature_cols]\n",
    "        y = df[label_col]\n",
    "\n",
    "        X_train, X_test, y_train, y_test = train_test_split(X, y, test_size=0.2)\n",
    "\n",
    "        # print(feature_cols)\n",
    "\n",
    "\n",
    "        #Model Training and parameter tuning using grid search\n",
    "\n",
    "        if model == \"XgBoost\":\n",
    "            model_name = xgb.XGBRegressor()\n",
    "            print (\"XgBoost Model Training...........\")\n",
    "            model_name.fit(X_train, y_train)\n",
    "\n",
    "        elif model == \"Random Forest\" :\n",
    "            model_name = RandomForestRegressor()\n",
    "            print (\"Random Forest Model Training...........\")\n",
    "            model_name.fit(X_train, y_train)\n",
    "\n",
    "        elif model == \"Ridge\" : \n",
    "            model_name = Ridge()\n",
    "            print (\"Ridge Training...........\")\n",
    "            model_name.fit(X_train, y_train)\n",
    "\n",
    "        elif model == \"Lasso\":    \n",
    "            model_name = Lasso()\n",
    "            print (\"Lasso Model Training...........\")\n",
    "            model_name.fit(X_train, y_train)\n",
    "\n",
    "\n",
    "        predictions =  model_name.predict(X_test)\n",
    "\n",
    "        # print (predictions)\n",
    "\n",
    "\n",
    "        data = {'Actual': list(y_test), 'Predicted': predictions, 'Model': model} \n",
    "        model_pred = pd.DataFrame(data)\n",
    "\n",
    "        results_df = results_df.append(model_pred, ignore_index = True)\n",
    "\n",
    "    return (results_df)\n",
    "  \n",
    "\n"
   ]
  },
  {
   "cell_type": "code",
   "execution_count": 45,
   "metadata": {},
   "outputs": [
    {
     "name": "stdout",
     "output_type": "stream",
     "text": [
      "XgBoost Model Training...........\n"
     ]
    },
    {
     "name": "stderr",
     "output_type": "stream",
     "text": [
      "C:\\Users\\mabbasi4\\AppData\\Local\\Temp\\ipykernel_10744\\396097535.py:63: FutureWarning: The frame.append method is deprecated and will be removed from pandas in a future version. Use pandas.concat instead.\n",
      "  results_df = results_df.append(model_pred, ignore_index = True)\n"
     ]
    },
    {
     "name": "stdout",
     "output_type": "stream",
     "text": [
      "Random Forest Model Training...........\n"
     ]
    },
    {
     "name": "stderr",
     "output_type": "stream",
     "text": [
      "C:\\Users\\mabbasi4\\AppData\\Local\\Temp\\ipykernel_10744\\396097535.py:63: FutureWarning: The frame.append method is deprecated and will be removed from pandas in a future version. Use pandas.concat instead.\n",
      "  results_df = results_df.append(model_pred, ignore_index = True)\n",
      "C:\\Users\\mabbasi4\\AppData\\Local\\Temp\\ipykernel_10744\\396097535.py:63: FutureWarning: The frame.append method is deprecated and will be removed from pandas in a future version. Use pandas.concat instead.\n",
      "  results_df = results_df.append(model_pred, ignore_index = True)\n"
     ]
    },
    {
     "name": "stdout",
     "output_type": "stream",
     "text": [
      "Ridge Training...........\n",
      "Lasso Model Training...........\n",
      "      Actual      Predicted    Model\n",
      "0     180000  183296.843750  XgBoost\n",
      "1     307000  301195.718750  XgBoost\n",
      "2     114500  115005.250000  XgBoost\n",
      "3     158900  129956.781250  XgBoost\n",
      "4     171900  158520.671875  XgBoost\n",
      "...      ...            ...      ...\n",
      "1163  197000  181550.730422    Lasso\n",
      "1164  184000  180505.277943    Lasso\n",
      "1165  169000  195795.370125    Lasso\n",
      "1166  150000  149793.330530    Lasso\n",
      "1167  185750  161233.776163    Lasso\n",
      "\n",
      "[1168 rows x 3 columns]\n"
     ]
    },
    {
     "name": "stderr",
     "output_type": "stream",
     "text": [
      "c:\\Users\\mabbasi4\\AppData\\Local\\Programs\\Python\\Python38\\lib\\site-packages\\sklearn\\linear_model\\_coordinate_descent.py:648: ConvergenceWarning: Objective did not converge. You might want to increase the number of iterations, check the scale of the features or consider increasing regularisation. Duality gap: 2.235e+11, tolerance: 7.552e+08\n",
      "  model = cd_fast.enet_coordinate_descent(\n",
      "C:\\Users\\mabbasi4\\AppData\\Local\\Temp\\ipykernel_10744\\396097535.py:63: FutureWarning: The frame.append method is deprecated and will be removed from pandas in a future version. Use pandas.concat instead.\n",
      "  results_df = results_df.append(model_pred, ignore_index = True)\n"
     ]
    }
   ],
   "source": [
    "predictions = model_training(preprocessed_data)\n",
    "print (predictions)"
   ]
  },
  {
   "cell_type": "code",
   "execution_count": 46,
   "metadata": {},
   "outputs": [],
   "source": [
    "predictions.to_csv(\"../data/predictions/model_predictions.csv\", index=False)"
   ]
  },
  {
   "cell_type": "code",
   "execution_count": null,
   "metadata": {},
   "outputs": [],
   "source": []
  }
 ],
 "metadata": {
  "kernelspec": {
   "display_name": "Python 3",
   "language": "python",
   "name": "python3"
  },
  "language_info": {
   "codemirror_mode": {
    "name": "ipython",
    "version": 3
   },
   "file_extension": ".py",
   "mimetype": "text/x-python",
   "name": "python",
   "nbconvert_exporter": "python",
   "pygments_lexer": "ipython3",
   "version": "3.8.0"
  }
 },
 "nbformat": 4,
 "nbformat_minor": 2
}
