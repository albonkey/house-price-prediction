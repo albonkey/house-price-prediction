{
 "cells": [
  {
   "cell_type": "markdown",
   "metadata": {},
   "source": [
    "# Installation"
   ]
  },
  {
   "cell_type": "code",
   "execution_count": 1,
   "metadata": {},
   "outputs": [
    {
     "name": "stdout",
     "output_type": "stream",
     "text": [
      "Requirement already satisfied: pandas in c:\\users\\mabbasi4\\appdata\\local\\programs\\python\\python38\\lib\\site-packages (1.5.1)\n",
      "Requirement already satisfied: numpy in c:\\users\\mabbasi4\\appdata\\local\\programs\\python\\python38\\lib\\site-packages (1.23.4)\n",
      "Requirement already satisfied: scikit-learn in c:\\users\\mabbasi4\\appdata\\local\\programs\\python\\python38\\lib\\site-packages (1.1.2)\n",
      "Requirement already satisfied: xgboost in c:\\users\\mabbasi4\\appdata\\local\\programs\\python\\python38\\lib\\site-packages (1.6.2)\n",
      "Requirement already satisfied: python-dateutil>=2.8.1 in c:\\users\\mabbasi4\\appdata\\local\\programs\\python\\python38\\lib\\site-packages (from pandas) (2.8.2)\n",
      "Requirement already satisfied: pytz>=2020.1 in c:\\users\\mabbasi4\\appdata\\local\\programs\\python\\python38\\lib\\site-packages (from pandas) (2022.5)\n",
      "Requirement already satisfied: scipy>=1.3.2 in c:\\users\\mabbasi4\\appdata\\local\\programs\\python\\python38\\lib\\site-packages (from scikit-learn) (1.10.1)\n",
      "Requirement already satisfied: joblib>=1.0.0 in c:\\users\\mabbasi4\\appdata\\local\\programs\\python\\python38\\lib\\site-packages (from scikit-learn) (1.2.0)\n",
      "Requirement already satisfied: threadpoolctl>=2.0.0 in c:\\users\\mabbasi4\\appdata\\local\\programs\\python\\python38\\lib\\site-packages (from scikit-learn) (3.1.0)\n",
      "Requirement already satisfied: six>=1.5 in c:\\users\\mabbasi4\\appdata\\local\\programs\\python\\python38\\lib\\site-packages (from python-dateutil>=2.8.1->pandas) (1.16.0)\n"
     ]
    },
    {
     "name": "stderr",
     "output_type": "stream",
     "text": [
      "\n",
      "[notice] A new release of pip is available: 23.1.2 -> 23.3.1\n",
      "[notice] To update, run: python.exe -m pip install --upgrade pip\n"
     ]
    }
   ],
   "source": [
    "! pip install pandas numpy scikit-learn xgboost\n"
   ]
  },
  {
   "cell_type": "markdown",
   "metadata": {},
   "source": [
    "## Import the libraries"
   ]
  },
  {
   "cell_type": "code",
   "execution_count": 2,
   "metadata": {},
   "outputs": [],
   "source": [
    "import pandas as pd\n",
    "import numpy as np\n",
    "from sklearn.linear_model import Ridge, Lasso\n",
    "import xgboost as xgb\n",
    "from sklearn.model_selection import train_test_split\n",
    "from sklearn.model_selection import GridSearchCV\n",
    "from sklearn.pipeline import make_pipeline\n",
    "from sklearn.model_selection import cross_val_score\n",
    "from sklearn.ensemble import RandomForestRegressor\n",
    "from sklearn.tree import DecisionTreeRegressor\n",
    "from sklearn.linear_model import LinearRegression\n",
    "from sklearn.decomposition import PCA\n",
    "from sklearn.preprocessing import StandardScaler\n",
    "import warnings\n",
    "warnings.filterwarnings(action='ignore', category=FutureWarning)"
   ]
  },
  {
   "cell_type": "markdown",
   "metadata": {},
   "source": [
    "# Read the datasets"
   ]
  },
  {
   "cell_type": "code",
   "execution_count": 3,
   "metadata": {},
   "outputs": [
    {
     "data": {
      "text/plain": [
       "(1460, 191)"
      ]
     },
     "execution_count": 3,
     "metadata": {},
     "output_type": "execute_result"
    }
   ],
   "source": [
    "preprocessed_data = pd.read_csv('../data/processed_data/feature_engineered_data.csv')\n",
    "preprocessed_data.shape"
   ]
  },
  {
   "cell_type": "code",
   "execution_count": 4,
   "metadata": {},
   "outputs": [
    {
     "data": {
      "text/plain": [
       "Unnamed: 0         int64\n",
       "OverallQual        int64\n",
       "GrLivArea          int64\n",
       "GarageCars         int64\n",
       "GarageArea         int64\n",
       "                   ...  \n",
       "BsmtCond_TA        int64\n",
       "LandContour_Bnk    int64\n",
       "LandContour_HLS    int64\n",
       "LandContour_Low    int64\n",
       "LandContour_Lvl    int64\n",
       "Length: 191, dtype: object"
      ]
     },
     "execution_count": 4,
     "metadata": {},
     "output_type": "execute_result"
    }
   ],
   "source": [
    "preprocessed_data.dtypes"
   ]
  },
  {
   "cell_type": "code",
   "execution_count": 5,
   "metadata": {},
   "outputs": [],
   "source": [
    "#Standerdize\n",
    "def scalar(X_train, X_test):\n",
    "    scaler = StandardScaler()\n",
    "    X_train = scaler.fit_transform(X_train)\n",
    "    X_test = scaler.transform(X_test)\n",
    "    return X_train, X_test"
   ]
  },
  {
   "cell_type": "code",
   "execution_count": 6,
   "metadata": {},
   "outputs": [],
   "source": [
    "# Perform PCA for dimensionality reduction\n",
    "def apply_pca(xt,n):\n",
    "    pca = PCA(n_components=n)\n",
    "    X_pca = pca.fit_transform(xt)\n",
    "    return X_pca"
   ]
  },
  {
   "cell_type": "code",
   "execution_count": 7,
   "metadata": {},
   "outputs": [],
   "source": [
    "# Cross validation\n",
    "def cross_validate (model , model_name, X_train, y_train) :\n",
    "    clf = make_pipeline(StandardScaler(), model_name)\n",
    "    mse_list = cross_val_score(clf, X_train, y_train, cv=5, scoring='neg_mean_squared_error')\n",
    "    mse_list_positive = -mse_list\n",
    "    # using numpy sqrt function to calculate rmse:\n",
    "    rmse_list = np.sqrt(mse_list_positive)\n",
    "    print (f\"Cross Val Score with 5 Folds for {model} are {rmse_list}\")"
   ]
  },
  {
   "cell_type": "markdown",
   "metadata": {},
   "source": [
    "## Model Training and Predictions"
   ]
  },
  {
   "cell_type": "markdown",
   "metadata": {},
   "source": [
    "### Grid Search for Parameter Tuning"
   ]
  },
  {
   "cell_type": "code",
   "execution_count": 8,
   "metadata": {},
   "outputs": [],
   "source": [
    "def model_training_predictions (X_train, X_test, y_train, y_test, Grid_Search = False, Cross_Validate = False) :\n",
    "\n",
    "    results_df = pd.DataFrame()\n",
    "\n",
    "    \n",
    "    model_list = ['Decision Tree','Linear Regression','XgBoost', 'Random Forest', 'Ridge', 'Lasso' ]\n",
    "    results_df = pd.DataFrame()\n",
    "    for model in model_list:\n",
    "        #Model Training and parameter tuning using grid search\n",
    "        if model == \"XgBoost\":\n",
    "            model_name = xgb.XGBRegressor()\n",
    "            grid_values = {\n",
    "            'n_estimators': [100, 200],  # Testing two values for n_estimators\n",
    "            'max_depth': [3, 6],  # Testing two values for max_depth\n",
    "            'learning_rate': [0.1, 0.01]  # Testing two values for learning_rate\n",
    "             }\n",
    "            if Grid_Search:\n",
    "                print (\"XgBoost Training with Grid Search...........\")    \n",
    "                model_name = GridSearchCV(model_name, param_grid = grid_values)\n",
    "                model_name.fit(X_train, y_train)\n",
    "\n",
    "            elif Cross_Validate : \n",
    "                print (\"XgBoost Model Training...........\")\n",
    "                cross_validate(model, model_name, X_train, y_train)\n",
    "\n",
    "        elif model == \"Random Forest\" :\n",
    "            model_name = RandomForestRegressor()\n",
    "            grid_values = {\n",
    "                'n_estimators': [100, 200],  # Testing two values for n_estimators\n",
    "                'max_depth': [None, 5],  # Testing two values for max_depth\n",
    "                'min_samples_split': [2, 5],  # Testing two values for min_samples_split\n",
    "            }\n",
    "            if Grid_Search:\n",
    "                print (\"Random Forest Training with Grid Search...........\")    \n",
    "                model_name = GridSearchCV(model_name, param_grid = grid_values)\n",
    "                model_name.fit(X_train, y_train)\n",
    "\n",
    "\n",
    "            elif Cross_Validate : \n",
    "                print (\"Random Forest Model Training...........\")\n",
    "                cross_validate(model, model_name, X_train, y_train)\n",
    "                \n",
    "\n",
    "        elif model == \"Ridge\" : \n",
    "            model_name = Ridge()\n",
    "            grid_values = {\n",
    "            'alpha': [0.001, 1],  # Testing two alpha values\n",
    "            'normalize': [True, False],  # Testing two normalization options\n",
    "            'max_iter': [1000, 5000]  # Testing two values for max_iter \n",
    "            }\n",
    "\n",
    "            if Grid_Search:\n",
    "                print (\"Ridge Model Training with Grid Search...........\")    \n",
    "                model_name = GridSearchCV(model_name, param_grid = grid_values)\n",
    "                model_name.fit(X_train, y_train)\n",
    "\n",
    "            elif Cross_Validate : \n",
    "                print (\"Ridge Training...........\")\n",
    "                cross_validate(model, model_name, X_train, y_train)\n",
    "\n",
    "\n",
    "        elif model == \"Lasso\":    \n",
    "            model_name = Lasso()\n",
    "            grid_values = {\n",
    "            'alpha': [0.001, 1],  # Testing two alpha values\n",
    "            'normalize': [True, False],  # Testing two normalization options\n",
    "            'max_iter': [1000, 5000]  # Testing two values for max_iter \n",
    "            }\n",
    "\n",
    "            if Grid_Search:\n",
    "                print (\"Lasso Model Training with Grid Search...........\")    \n",
    "                model_name = GridSearchCV(model_name, param_grid = grid_values)\n",
    "                model_name.fit(X_train, y_train)\n",
    "\n",
    "            elif Cross_Validate :\n",
    "                print (\"Lasso Model Training...........\")\n",
    "                cross_validate(model, model_name, X_train, y_train)\n",
    "\n",
    "            \n",
    "            model_name.fit(X_train, y_train)\n",
    "\n",
    "        elif model == \"Decision Tree\":    \n",
    "            model_name = DecisionTreeRegressor()\n",
    "            grid_values = {'max_depth': [5, 10], 'min_samples_split':[2, 10], 'max_leaf_nodes': [50, None]}\n",
    "            if Grid_Search:\n",
    "                print (\"Decision Tree Model Training with Grid Search...........\")    \n",
    "                model_name = GridSearchCV(model_name, param_grid = grid_values)\n",
    "                model_name.fit(X_train, y_train)\n",
    "\n",
    "            elif Cross_Validate :\n",
    "                cross_validate(model, model_name, X_train, y_train)        \n",
    "\n",
    "        elif model == \"Linear Regression\":    \n",
    "            model_name = LinearRegression()\n",
    "            grid_values = {\n",
    "                'normalize': [True, False],  # Testing two normalization options\n",
    "                'fit_intercept': [True, False]  # Testing two fit_intercept options\n",
    "            }\n",
    "            if Grid_Search:\n",
    "                print (\"Linear Regression Model Training with Grid Search...........\")    \n",
    "                model_name = GridSearchCV(model_name, param_grid = grid_values)\n",
    "                model_name.fit(X_train, y_train)\n",
    "\n",
    "            elif Cross_Validate :\n",
    "                print (\"Linear Regression Model Training...........\")\n",
    "                cross_validate(model, model_name, X_train, y_train)        \n",
    "\n",
    "        if Grid_Search :\n",
    "            \n",
    "            predictions = model_name.predict(X_test)\n",
    "\n",
    "            data = {'Actual': list(y_test), 'Predicted': predictions, 'Model': model} \n",
    "            model_results = pd.DataFrame(data)\n",
    "\n",
    "            results_df = results_df.append(model_results, ignore_index = True)\n",
    "\n",
    "    if Grid_Search:\n",
    "        return (results_df)\n",
    "\n",
    "\n",
    "\n",
    "  "
   ]
  },
  {
   "cell_type": "markdown",
   "metadata": {},
   "source": [
    "## Call the functions"
   ]
  },
  {
   "cell_type": "code",
   "execution_count": 9,
   "metadata": {},
   "outputs": [
    {
     "name": "stdout",
     "output_type": "stream",
     "text": [
      "Decision Tree Model Training with Grid Search...........\n",
      "Linear Regression Model Training with Grid Search...........\n",
      "XgBoost Training with Grid Search...........\n",
      "Random Forest Training with Grid Search...........\n",
      "Ridge Model Training with Grid Search...........\n",
      "Lasso Model Training with Grid Search...........\n"
     ]
    }
   ],
   "source": [
    "df = preprocessed_data\n",
    "\n",
    "drop_cols = ['SalePrice']\n",
    "traincols = df.columns\n",
    "feature_cols  = list(set(traincols)-set(drop_cols))\n",
    "label_col = 'SalePrice'\n",
    "\n",
    "\n",
    "X = df[feature_cols]\n",
    "y = df[label_col]\n",
    "\n",
    "X_train, X_test, y_train, y_test = train_test_split(X, y, test_size=0.2)\n",
    "X_train, X_test = scalar(X_train, X_test )\n",
    "X_train = apply_pca(X_train,100)\n",
    "X_test = apply_pca(X_test,100)\n",
    "predictions = model_training_predictions(X_train, X_test, y_train, y_test, Grid_Search =  True)\n",
    "predictions.to_csv(\"../data/predictions/model_predictions.csv\", index=False)"
   ]
  },
  {
   "cell_type": "markdown",
   "metadata": {},
   "source": [
    "## Cross Validation"
   ]
  },
  {
   "cell_type": "code",
   "execution_count": 10,
   "metadata": {},
   "outputs": [
    {
     "name": "stdout",
     "output_type": "stream",
     "text": [
      "Cross Val Score with 5 Folds for Decision Tree are [44833.3488563  39934.98980951 44601.41774557 45656.9309797\n",
      " 48773.05213393]\n",
      "Linear Regression Model Training...........\n",
      "Cross Val Score with 5 Folds for Linear Regression are [36582.57142345 32455.05531868 28856.28507961 32979.88604945\n",
      " 39988.03165952]\n",
      "XgBoost Model Training...........\n",
      "Cross Val Score with 5 Folds for XgBoost are [38652.25724545 26064.20092929 31411.46412082 28083.55331516\n",
      " 42019.61136614]\n",
      "Random Forest Model Training...........\n",
      "Cross Val Score with 5 Folds for Random Forest are [38366.15315895 26126.20837232 29105.25546453 29290.97846227\n",
      " 39664.57098729]\n",
      "Ridge Training...........\n",
      "Cross Val Score with 5 Folds for Ridge are [36613.47322273 32095.22242658 28839.35120821 32874.25983133\n",
      " 39971.11321671]\n",
      "Lasso Model Training...........\n",
      "Cross Val Score with 5 Folds for Lasso are [36580.66730766 32359.86976471 28853.66557612 32919.98483404\n",
      " 39987.38026758]\n"
     ]
    }
   ],
   "source": [
    "model_training_predictions(X_train, X_test, y_train, y_test, Cross_Validate=True)"
   ]
  },
  {
   "cell_type": "code",
   "execution_count": null,
   "metadata": {},
   "outputs": [],
   "source": []
  }
 ],
 "metadata": {
  "kernelspec": {
   "display_name": "Python 3",
   "language": "python",
   "name": "python3"
  },
  "language_info": {
   "codemirror_mode": {
    "name": "ipython",
    "version": 3
   },
   "file_extension": ".py",
   "mimetype": "text/x-python",
   "name": "python",
   "nbconvert_exporter": "python",
   "pygments_lexer": "ipython3",
   "version": "3.8.0"
  }
 },
 "nbformat": 4,
 "nbformat_minor": 2
}
