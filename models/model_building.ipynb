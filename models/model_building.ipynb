{
 "cells": [
  {
   "cell_type": "markdown",
   "metadata": {},
   "source": [
    "## Import the libraries"
   ]
  },
  {
   "cell_type": "code",
   "execution_count": 12,
   "metadata": {},
   "outputs": [],
   "source": [
    "import pandas as pd\n",
    "import numpy as np\n",
    "import xgboost as xgb\n",
    "import warnings\n",
    "from sklearn.linear_model import Ridge, Lasso\n",
    "from sklearn.model_selection import train_test_split\n",
    "from sklearn.model_selection import GridSearchCV\n",
    "from sklearn.pipeline import make_pipeline\n",
    "from sklearn.model_selection import cross_val_score\n",
    "from sklearn.ensemble import RandomForestRegressor\n",
    "from sklearn.tree import DecisionTreeRegressor\n",
    "from sklearn.linear_model import LinearRegression\n",
    "from sklearn.decomposition import PCA\n",
    "from sklearn.preprocessing import StandardScaler\n",
    "warnings.filterwarnings(action='ignore', category=FutureWarning)"
   ]
  },
  {
   "cell_type": "markdown",
   "metadata": {},
   "source": [
    "# Read the datasets"
   ]
  },
  {
   "cell_type": "code",
   "execution_count": 13,
   "metadata": {},
   "outputs": [
    {
     "data": {
      "text/plain": [
       "(1460, 190)"
      ]
     },
     "execution_count": 13,
     "metadata": {},
     "output_type": "execute_result"
    }
   ],
   "source": [
    "preprocessed_data = pd.read_csv('../data/processed_data/feature_engineered_data.csv')\n",
    "preprocessed_data.shape"
   ]
  },
  {
   "cell_type": "code",
   "execution_count": 14,
   "metadata": {},
   "outputs": [
    {
     "data": {
      "text/plain": [
       "Unnamed: 0         int64\n",
       "OverallQual        int64\n",
       "GrLivArea          int64\n",
       "GarageCars         int64\n",
       "GarageArea         int64\n",
       "                   ...  \n",
       "BsmtCond_TA         bool\n",
       "LandContour_Bnk     bool\n",
       "LandContour_HLS     bool\n",
       "LandContour_Low     bool\n",
       "LandContour_Lvl     bool\n",
       "Length: 190, dtype: object"
      ]
     },
     "execution_count": 14,
     "metadata": {},
     "output_type": "execute_result"
    }
   ],
   "source": [
    "preprocessed_data.dtypes"
   ]
  },
  {
   "cell_type": "code",
   "execution_count": 15,
   "metadata": {},
   "outputs": [],
   "source": [
    "#Standerdize\n",
    "def scalar(X_train, X_test):\n",
    "    scaler = StandardScaler()\n",
    "    X_train = scaler.fit_transform(X_train)\n",
    "    X_test = scaler.transform(X_test)\n",
    "    return X_train, X_test"
   ]
  },
  {
   "cell_type": "code",
   "execution_count": 16,
   "metadata": {},
   "outputs": [],
   "source": [
    "# Perform PCA for dimensionality reduction\n",
    "def apply_pca(xt,n):\n",
    "    pca = PCA(n_components=n)\n",
    "    X_pca = pca.fit_transform(xt)\n",
    "    return X_pca"
   ]
  },
  {
   "cell_type": "code",
   "execution_count": 8,
   "metadata": {},
   "outputs": [],
   "source": [
    "# Cross validation\n",
    "def cross_validate (model , model_name, X_train, y_train) :\n",
    "    clf = make_pipeline(StandardScaler(), model_name)\n",
    "    mse_list = cross_val_score(clf, X_train, y_train, cv=5, scoring='neg_mean_squared_error')\n",
    "    mse_list_positive = -mse_list\n",
    "    # using numpy sqrt function to calculate rmse:\n",
    "    rmse_list = np.sqrt(mse_list_positive)\n",
    "    print (f\"Cross Val Score with 5 Folds for {model} are {rmse_list}\")"
   ]
  },
  {
   "cell_type": "markdown",
   "metadata": {},
   "source": [
    "## Model Training and Predictions"
   ]
  },
  {
   "cell_type": "markdown",
   "metadata": {},
   "source": [
    "### Grid Search for Parameter Tuning"
   ]
  },
  {
   "cell_type": "code",
   "execution_count": 9,
   "metadata": {},
   "outputs": [],
   "source": [
    "def model_training_predictions (X_train, X_test, y_train, y_test, Grid_Search = False, Cross_Validate = False) :\n",
    "\n",
    "    results_df = pd.DataFrame()\n",
    "\n",
    "    \n",
    "    model_list = ['Decision Tree','Linear Regression','XgBoost', 'Random Forest', 'Ridge', 'Lasso' ]\n",
    "    results_df = pd.DataFrame()\n",
    "    for model in model_list:\n",
    "        #Model Training and parameter tuning using grid search\n",
    "        if model == \"XgBoost\":\n",
    "            model_name = xgb.XGBRegressor()\n",
    "            grid_values = {\n",
    "            'n_estimators': [100, 200],  # Testing two values for n_estimators\n",
    "            'max_depth': [3, 6],  # Testing two values for max_depth\n",
    "            'learning_rate': [0.1, 0.01]  # Testing two values for learning_rate\n",
    "             }\n",
    "            if Grid_Search:\n",
    "                print (\"XgBoost Training with Grid Search...........\")    \n",
    "                model_name = GridSearchCV(model_name, param_grid = grid_values)\n",
    "                model_name.fit(X_train, y_train)\n",
    "\n",
    "            elif Cross_Validate : \n",
    "                print (\"XgBoost Model Training...........\")\n",
    "                cross_validate(model, model_name, X_train, y_train)\n",
    "\n",
    "        elif model == \"Random Forest\" :\n",
    "            model_name = RandomForestRegressor()\n",
    "            grid_values = {\n",
    "                'n_estimators': [100, 200],  # Testing two values for n_estimators\n",
    "                'max_depth': [None, 5],  # Testing two values for max_depth\n",
    "                'min_samples_split': [2, 5],  # Testing two values for min_samples_split\n",
    "            }\n",
    "            if Grid_Search:\n",
    "                print (\"Random Forest Training with Grid Search...........\")    \n",
    "                model_name = GridSearchCV(model_name, param_grid = grid_values)\n",
    "                model_name.fit(X_train, y_train)\n",
    "\n",
    "\n",
    "            elif Cross_Validate : \n",
    "                print (\"Random Forest Model Training...........\")\n",
    "                cross_validate(model, model_name, X_train, y_train)\n",
    "                \n",
    "\n",
    "        elif model == \"Ridge\" : \n",
    "            model_name = Ridge()\n",
    "            grid_values = {\n",
    "            'alpha': [0.001, 1],  # Testing two alpha values\n",
    "            'fit_intercept': [True, False],  # Testing two normalization options\n",
    "            'max_iter': [1000, 5000]  # Testing two values for max_iter \n",
    "            }\n",
    "\n",
    "            if Grid_Search:\n",
    "                print (\"Ridge Model Training with Grid Search...........\")    \n",
    "                model_name = GridSearchCV(model_name, param_grid = grid_values)\n",
    "                model_name.fit(X_train, y_train)\n",
    "\n",
    "            elif Cross_Validate : \n",
    "                print (\"Ridge Training...........\")\n",
    "                cross_validate(model, model_name, X_train, y_train)\n",
    "\n",
    "\n",
    "        elif model == \"Lasso\":    \n",
    "            model_name = Lasso()\n",
    "            grid_values = {\n",
    "            'alpha': [0.001, 1],  # Testing two alpha values\n",
    "            'fit_intercept': [True, False],  # Testing two normalization options\n",
    "            'max_iter': [1000, 5000]  # Testing two values for max_iter \n",
    "            }\n",
    "\n",
    "            if Grid_Search:\n",
    "                print (\"Lasso Model Training with Grid Search...........\")    \n",
    "                model_name = GridSearchCV(model_name, param_grid = grid_values)\n",
    "                model_name.fit(X_train, y_train)\n",
    "\n",
    "            elif Cross_Validate :\n",
    "                print (\"Lasso Model Training...........\")\n",
    "                cross_validate(model, model_name, X_train, y_train)\n",
    "\n",
    "            \n",
    "            model_name.fit(X_train, y_train)\n",
    "\n",
    "        elif model == \"Decision Tree\":    \n",
    "            model_name = DecisionTreeRegressor()\n",
    "            grid_values = {'max_depth': [5, 10], 'min_samples_split':[2, 10], 'max_leaf_nodes': [50, None]}\n",
    "            if Grid_Search:\n",
    "                print (\"Decision Tree Model Training with Grid Search...........\")    \n",
    "                model_name = GridSearchCV(model_name, param_grid = grid_values)\n",
    "                model_name.fit(X_train, y_train)\n",
    "\n",
    "            elif Cross_Validate :\n",
    "                cross_validate(model, model_name, X_train, y_train)        \n",
    "\n",
    "        elif model == \"Linear Regression\":    \n",
    "            model_name = LinearRegression()\n",
    "            grid_values = {\n",
    "                'n_jobs': [-1, 2],  # Testing two normalization options\n",
    "                'fit_intercept': [True, False]  # Testing two fit_intercept options\n",
    "            }\n",
    "            if Grid_Search:\n",
    "                print (\"Linear Regression Model Training with Grid Search...........\")    \n",
    "                model_name = GridSearchCV(model_name, param_grid = grid_values)\n",
    "                model_name.fit(X_train, y_train)\n",
    "\n",
    "            elif Cross_Validate :\n",
    "                print (\"Linear Regression Model Training...........\")\n",
    "                cross_validate(model, model_name, X_train, y_train)        \n",
    "\n",
    "        if Grid_Search :\n",
    "            \n",
    "            predictions = model_name.predict(X_test)\n",
    "\n",
    "            data = {'Actual': list(y_test), 'Predicted': predictions, 'Model': model} \n",
    "            model_results = pd.DataFrame(data)\n",
    "\n",
    "            results_df = pd.concat([results_df, model_results], ignore_index = True)\n",
    "\n",
    "    if Grid_Search:\n",
    "        return (results_df)\n",
    "\n",
    "\n",
    "\n",
    "  "
   ]
  },
  {
   "cell_type": "markdown",
   "metadata": {},
   "source": [
    "## Call the functions"
   ]
  },
  {
   "cell_type": "code",
   "execution_count": 10,
   "metadata": {},
   "outputs": [
    {
     "name": "stdout",
     "output_type": "stream",
     "text": [
      "Decision Tree Model Training with Grid Search...........\n",
      "Linear Regression Model Training with Grid Search...........\n",
      "XgBoost Training with Grid Search...........\n",
      "Random Forest Training with Grid Search...........\n",
      "Ridge Model Training with Grid Search...........\n",
      "Lasso Model Training with Grid Search...........\n"
     ]
    }
   ],
   "source": [
    "df = preprocessed_data\n",
    "\n",
    "drop_cols = ['SalePrice']\n",
    "traincols = df.columns\n",
    "feature_cols  = list(set(traincols)-set(drop_cols))\n",
    "label_col = 'SalePrice'\n",
    "\n",
    "\n",
    "X = df[feature_cols]\n",
    "y = df[label_col]\n",
    "\n",
    "X_train, X_test, y_train, y_test = train_test_split(X, y, test_size=0.2)\n",
    "X_train, X_test = scalar(X_train, X_test )\n",
    "X_train = apply_pca(X_train,100)\n",
    "X_test = apply_pca(X_test,100)\n",
    "predictions = model_training_predictions(X_train, X_test, y_train, y_test, Grid_Search =  True)\n",
    "predictions.to_csv(\"../data/predictions/model_predictions.csv\", index=False)"
   ]
  },
  {
   "cell_type": "markdown",
   "metadata": {},
   "source": [
    "## Cross Validation"
   ]
  },
  {
   "cell_type": "code",
   "execution_count": 11,
   "metadata": {},
   "outputs": [
    {
     "name": "stdout",
     "output_type": "stream",
     "text": [
      "Cross Val Score with 5 Folds for Decision Tree are [50700.19304895 46825.32359369 44277.60058026 57752.34221399\n",
      " 44933.18351721]\n",
      "Linear Regression Model Training...........\n",
      "Cross Val Score with 5 Folds for Linear Regression are [54760.02178992 26851.1836576  36503.63574394 60830.22269235\n",
      " 33141.22060802]\n",
      "XgBoost Model Training...........\n",
      "Cross Val Score with 5 Folds for XgBoost are [49835.67976492 29376.58158025 24802.86155922 50661.61530607\n",
      " 29668.84764147]\n",
      "Random Forest Model Training...........\n",
      "Cross Val Score with 5 Folds for Random Forest are [43710.58144673 28126.47214304 23181.33222953 44704.69205941\n",
      " 30463.75077328]\n",
      "Ridge Training...........\n",
      "Cross Val Score with 5 Folds for Ridge are [53711.53727411 26836.00942923 35083.34372901 60556.87302342\n",
      " 33137.15837452]\n",
      "Lasso Model Training...........\n",
      "Cross Val Score with 5 Folds for Lasso are [54459.18595368 26851.77762433 36289.2457531  60757.63290562\n",
      " 33136.43276822]\n"
     ]
    }
   ],
   "source": [
    "model_training_predictions(X_train, X_test, y_train, y_test, Cross_Validate=True)"
   ]
  },
  {
   "cell_type": "code",
   "execution_count": null,
   "metadata": {},
   "outputs": [],
   "source": []
  }
 ],
 "metadata": {
  "kernelspec": {
   "display_name": "Python 3",
   "language": "python",
   "name": "python3"
  },
  "language_info": {
   "codemirror_mode": {
    "name": "ipython",
    "version": 3
   },
   "file_extension": ".py",
   "mimetype": "text/x-python",
   "name": "python",
   "nbconvert_exporter": "python",
   "pygments_lexer": "ipython3",
   "version": "3.11.1"
  }
 },
 "nbformat": 4,
 "nbformat_minor": 2
}
