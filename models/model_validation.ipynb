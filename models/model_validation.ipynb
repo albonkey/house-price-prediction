{
 "cells": [
  {
   "cell_type": "markdown",
   "metadata": {},
   "source": [
    "## Installation"
   ]
  },
  {
   "cell_type": "code",
   "execution_count": 20,
   "metadata": {},
   "outputs": [
    {
     "name": "stdout",
     "output_type": "stream",
     "text": [
      "Requirement already satisfied: pandas in c:\\users\\mabbasi4\\appdata\\local\\programs\\python\\python38\\lib\\site-packages (1.5.1)\n",
      "Requirement already satisfied: numpy in c:\\users\\mabbasi4\\appdata\\local\\programs\\python\\python38\\lib\\site-packages (1.23.4)\n",
      "Requirement already satisfied: matplotlib in c:\\users\\mabbasi4\\appdata\\local\\programs\\python\\python38\\lib\\site-packages (3.6.1)\n",
      "Requirement already satisfied: python-dateutil>=2.8.1 in c:\\users\\mabbasi4\\appdata\\local\\programs\\python\\python38\\lib\\site-packages (from pandas) (2.8.2)\n",
      "Requirement already satisfied: pytz>=2020.1 in c:\\users\\mabbasi4\\appdata\\local\\programs\\python\\python38\\lib\\site-packages (from pandas) (2022.5)\n",
      "Requirement already satisfied: contourpy>=1.0.1 in c:\\users\\mabbasi4\\appdata\\local\\programs\\python\\python38\\lib\\site-packages (from matplotlib) (1.0.5)\n",
      "Requirement already satisfied: cycler>=0.10 in c:\\users\\mabbasi4\\appdata\\local\\programs\\python\\python38\\lib\\site-packages (from matplotlib) (0.11.0)\n",
      "Requirement already satisfied: fonttools>=4.22.0 in c:\\users\\mabbasi4\\appdata\\local\\programs\\python\\python38\\lib\\site-packages (from matplotlib) (4.38.0)\n",
      "Requirement already satisfied: kiwisolver>=1.0.1 in c:\\users\\mabbasi4\\appdata\\local\\programs\\python\\python38\\lib\\site-packages (from matplotlib) (1.4.4)\n",
      "Requirement already satisfied: packaging>=20.0 in c:\\users\\mabbasi4\\appdata\\local\\programs\\python\\python38\\lib\\site-packages (from matplotlib) (21.3)\n",
      "Requirement already satisfied: pillow>=6.2.0 in c:\\users\\mabbasi4\\appdata\\local\\programs\\python\\python38\\lib\\site-packages (from matplotlib) (9.2.0)\n",
      "Requirement already satisfied: pyparsing>=2.2.1 in c:\\users\\mabbasi4\\appdata\\local\\programs\\python\\python38\\lib\\site-packages (from matplotlib) (3.0.9)\n",
      "Requirement already satisfied: six>=1.5 in c:\\users\\mabbasi4\\appdata\\local\\programs\\python\\python38\\lib\\site-packages (from python-dateutil>=2.8.1->pandas) (1.16.0)\n"
     ]
    },
    {
     "name": "stderr",
     "output_type": "stream",
     "text": [
      "\n",
      "[notice] A new release of pip is available: 23.1.2 -> 23.3.1\n",
      "[notice] To update, run: python.exe -m pip install --upgrade pip\n"
     ]
    }
   ],
   "source": [
    "! pip install pandas numpy matplotlib"
   ]
  },
  {
   "cell_type": "markdown",
   "metadata": {},
   "source": [
    "# Import the libraries"
   ]
  },
  {
   "cell_type": "code",
   "execution_count": 21,
   "metadata": {},
   "outputs": [],
   "source": [
    "import numpy as np\n",
    "import pandas as pd\n"
   ]
  },
  {
   "cell_type": "markdown",
   "metadata": {},
   "source": [
    "## Read the datasets"
   ]
  },
  {
   "cell_type": "code",
   "execution_count": 22,
   "metadata": {},
   "outputs": [],
   "source": [
    "prediction_df = pd.read_csv(\"../data/predictions/model_predictions.csv\")"
   ]
  },
  {
   "cell_type": "code",
   "execution_count": 23,
   "metadata": {},
   "outputs": [
    {
     "name": "stdout",
     "output_type": "stream",
     "text": [
      "                   Actual  Predicted\n",
      "Model                               \n",
      "Decision Tree         292        292\n",
      "Lasso                 292        292\n",
      "Linear Regression     292        292\n",
      "Random Forest         292        292\n",
      "Ridge                 292        292\n",
      "XgBoost               292        292\n"
     ]
    }
   ],
   "source": [
    "print(prediction_df.groupby(\"Model\").count())"
   ]
  },
  {
   "cell_type": "code",
   "execution_count": 24,
   "metadata": {},
   "outputs": [],
   "source": [
    "xgboost_df = prediction_df[prediction_df.Model == 'XgBoost'].drop('Model',axis=1)\n",
    "ranFor_df = prediction_df[prediction_df.Model == 'Random Forest'].drop('Model',axis=1)\n",
    "lasso_df = prediction_df[prediction_df.Model == 'Lasso'].drop('Model',axis=1)\n",
    "ridge_df = prediction_df[prediction_df.Model == 'Ridge'].drop('Model',axis=1)\n"
   ]
  },
  {
   "cell_type": "code",
   "execution_count": 25,
   "metadata": {},
   "outputs": [],
   "source": [
    "actual_xgb = xgboost_df['Actual']\n",
    "predictions_xgb = xgboost_df['Predicted']\n",
    "actual_rf = ranFor_df['Actual']\n",
    "predictions_rf = ranFor_df['Predicted']\n",
    "actual_lasso = lasso_df['Actual']\n",
    "predictions_lasso = lasso_df['Predicted']\n",
    "actual_ridge = ridge_df['Actual']\n",
    "predictions_ridge = ridge_df['Predicted']"
   ]
  },
  {
   "cell_type": "markdown",
   "metadata": {},
   "source": [
    "## Compute RMSE"
   ]
  },
  {
   "cell_type": "code",
   "execution_count": 26,
   "metadata": {},
   "outputs": [],
   "source": [
    "def rmse(actual, predictions):\n",
    "    return np.sqrt(np.mean(np.square(actual - predictions)))"
   ]
  },
  {
   "cell_type": "code",
   "execution_count": 27,
   "metadata": {},
   "outputs": [],
   "source": [
    "RMSE_xgb = rmse(actual_xgb,predictions_xgb)\n",
    "RMSE_rf = rmse(actual_rf,predictions_rf)\n",
    "RMSE_lasso = rmse(actual_lasso,predictions_lasso)\n",
    "RMSE_ridge = rmse(actual_ridge,predictions_ridge)"
   ]
  },
  {
   "cell_type": "code",
   "execution_count": 28,
   "metadata": {},
   "outputs": [
    {
     "name": "stdout",
     "output_type": "stream",
     "text": [
      "XgBoost RMSE = 39028.36736901542\n",
      "Random Forest RMSE = 41341.31651876704\n",
      "Lasso RMSE = 49874.514614660926\n",
      "Ridge RMSE = 49978.37268850852\n"
     ]
    }
   ],
   "source": [
    "print(\"XgBoost RMSE = \" + str(RMSE_xgb))\n",
    "print(\"Random Forest RMSE = \" + str(RMSE_rf))\n",
    "print(\"Lasso RMSE = \" + str(RMSE_lasso))\n",
    "print(\"Ridge RMSE = \" + str(RMSE_ridge))"
   ]
  },
  {
   "cell_type": "markdown",
   "metadata": {},
   "source": [
    "## Compute Mean Absolute Error"
   ]
  },
  {
   "cell_type": "code",
   "execution_count": 29,
   "metadata": {},
   "outputs": [],
   "source": [
    "def mae(actual, predictions):\n",
    "    return np.mean(np.abs(actual - predictions))"
   ]
  },
  {
   "cell_type": "code",
   "execution_count": 30,
   "metadata": {},
   "outputs": [],
   "source": [
    "mae_xgb = mae(actual_xgb,predictions_xgb)\n",
    "mae_rf = mae(actual_rf,predictions_rf)\n",
    "mae_lasso = mae(actual_lasso,predictions_lasso)\n",
    "mae_ridge = mae(actual_ridge,predictions_ridge)"
   ]
  },
  {
   "cell_type": "code",
   "execution_count": 31,
   "metadata": {},
   "outputs": [
    {
     "name": "stdout",
     "output_type": "stream",
     "text": [
      "XgBoost MAE = 26065.603903574487\n",
      "Random Forest MAE = 26887.791729452056\n",
      "Lasso MAE = 32357.64500863663\n",
      "Ridge MAE = 32441.719850481462\n"
     ]
    }
   ],
   "source": [
    "print(\"XgBoost MAE = \" + str(mae_xgb))\n",
    "print(\"Random Forest MAE = \" + str(mae_rf))\n",
    "print(\"Lasso MAE = \" + str(mae_lasso))\n",
    "print(\"Ridge MAE = \" + str(mae_ridge))"
   ]
  },
  {
   "cell_type": "markdown",
   "metadata": {},
   "source": [
    "## Compute SMAPE"
   ]
  },
  {
   "cell_type": "code",
   "execution_count": 32,
   "metadata": {},
   "outputs": [],
   "source": [
    "def smape(actual, predictions):\n",
    "    return np.mean( np.abs(predictions - actual) / ((np.abs(predictions) + np.abs(actual))/2) )*100"
   ]
  },
  {
   "cell_type": "code",
   "execution_count": 33,
   "metadata": {},
   "outputs": [],
   "source": [
    "smape_xgb = smape(actual_xgb,predictions_xgb)\n",
    "smape_rf = smape(actual_rf,predictions_rf)\n",
    "smape_lasso = smape(actual_lasso,predictions_lasso)\n",
    "smape_ridge = smape(actual_ridge,predictions_ridge)"
   ]
  },
  {
   "cell_type": "code",
   "execution_count": 34,
   "metadata": {},
   "outputs": [
    {
     "name": "stdout",
     "output_type": "stream",
     "text": [
      "XgBoost SMAPE = 14.394493001587705\n",
      "Random Forest SMAPE = 14.66307624894189\n",
      "Lasso SMAPE = 18.918176395709015\n",
      "Ridge SMAPE = 18.97234106864696\n"
     ]
    }
   ],
   "source": [
    "print(\"XgBoost SMAPE = \" + str(smape_xgb))\n",
    "print(\"Random Forest SMAPE = \" + str(smape_rf))\n",
    "print(\"Lasso SMAPE = \" + str(smape_lasso))\n",
    "print(\"Ridge SMAPE = \" + str(smape_ridge))"
   ]
  },
  {
   "cell_type": "markdown",
   "metadata": {},
   "source": [
    "## Compute SMAPE"
   ]
  },
  {
   "cell_type": "code",
   "execution_count": 35,
   "metadata": {},
   "outputs": [],
   "source": [
    "def mape(actual, predictions):\n",
    "    return np.mean(np.abs(( actual - predictions) / actual)) * 100"
   ]
  },
  {
   "cell_type": "code",
   "execution_count": 36,
   "metadata": {},
   "outputs": [],
   "source": [
    "mape_xgb = mape(actual_xgb,predictions_xgb)\n",
    "mape_rf = mape(actual_rf,predictions_rf)\n",
    "mape_lasso = mape(actual_lasso,predictions_lasso)\n",
    "mape_ridge = mape(actual_ridge,predictions_ridge)"
   ]
  },
  {
   "cell_type": "code",
   "execution_count": 37,
   "metadata": {},
   "outputs": [
    {
     "name": "stdout",
     "output_type": "stream",
     "text": [
      "XgBoost MAPE = 15.405472781019197\n",
      "Random Forest MAPE = 15.540926892296161\n",
      "Lasso MAPE = 19.49132067495949\n",
      "Ridge MAPE = 19.547483006599915\n"
     ]
    }
   ],
   "source": [
    "print(\"XgBoost MAPE = \" + str(mape_xgb))\n",
    "print(\"Random Forest MAPE = \" + str(mape_rf))\n",
    "print(\"Lasso MAPE = \" + str(mape_lasso))\n",
    "print(\"Ridge MAPE = \" + str(mape_ridge))"
   ]
  }
 ],
 "metadata": {
  "kernelspec": {
   "display_name": "base",
   "language": "python",
   "name": "python3"
  },
  "language_info": {
   "codemirror_mode": {
    "name": "ipython",
    "version": 3
   },
   "file_extension": ".py",
   "mimetype": "text/x-python",
   "name": "python",
   "nbconvert_exporter": "python",
   "pygments_lexer": "ipython3",
   "version": "3.8.0"
  }
 },
 "nbformat": 4,
 "nbformat_minor": 2
}
